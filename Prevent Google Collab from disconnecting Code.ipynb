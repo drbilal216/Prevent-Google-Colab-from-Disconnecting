{
 "cells": [
  {
   "cell_type": "markdown",
   "metadata": {},
   "source": [
    "# PROBLEM\n",
    "I was training my model but the google colab keeps disconnecting after 30 mins automatically if I do not respond. And my data is lost."
   ]
  },
  {
   "cell_type": "markdown",
   "metadata": {},
   "source": [
    "# SOLUTION\n",
    "So to prevent this just run the following code in the console and it will prevent you from disconnecting.\n",
    "\n",
    "Ctrl+ Shift + i to open inspector view . Then goto console."
   ]
  },
  {
   "cell_type": "code",
   "execution_count": null,
   "metadata": {},
   "outputs": [],
   "source": [
    "function ClickConnect(){\n",
    "console.log(\"Working\"); \n",
    "document.querySelector(\"colab-toolbar-button#connect\").click() \n",
    "}\n",
    "setInterval(ClickConnect,60000)"
   ]
  },
  {
   "cell_type": "markdown",
   "metadata": {},
   "source": [
    "It would keep on clicking the page and prevent it from disconnecting.\n",
    "\n",
    "It solved the issue for me."
   ]
  },
  {
   "cell_type": "markdown",
   "metadata": {},
   "source": [
    "# ERRORS :\n",
    "People have been reporting for errors."
   ]
  },
  {
   "cell_type": "code",
   "execution_count": null,
   "metadata": {},
   "outputs": [],
   "source": [
    "function ClickConnect(){\n",
    "console.log(\"Working\"); \n",
    "document.querySelector(\"colab-toolbar-button\").click() \n",
    "}setInterval(ClickConnect,60000)"
   ]
  },
  {
   "cell_type": "markdown",
   "metadata": {},
   "source": [
    "Try this. I didnt work on google colab for a long time there for thought there might be changes but as of now the site is same and the default code should be working. But in case it didnot work use this one.\n",
    "\n",
    "There might be an error if the console window is taking a lot of image and the connect button is not visible in the page.\n",
    "\n",
    "If the error persist contact me."
   ]
  },
  {
   "cell_type": "code",
   "execution_count": null,
   "metadata": {},
   "outputs": [],
   "source": []
  }
 ],
 "metadata": {
  "kernelspec": {
   "display_name": "Python 3",
   "language": "python",
   "name": "python3"
  },
  "language_info": {
   "codemirror_mode": {
    "name": "ipython",
    "version": 3
   },
   "file_extension": ".py",
   "mimetype": "text/x-python",
   "name": "python",
   "nbconvert_exporter": "python",
   "pygments_lexer": "ipython3",
   "version": "3.7.4"
  }
 },
 "nbformat": 4,
 "nbformat_minor": 2
}
